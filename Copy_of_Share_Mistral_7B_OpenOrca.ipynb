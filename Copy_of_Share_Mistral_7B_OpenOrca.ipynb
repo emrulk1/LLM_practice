{
  "nbformat": 4,
  "nbformat_minor": 0,
  "metadata": {
    "colab": {
      "provenance": [],
      "collapsed_sections": [
        "clXKow5r25b6"
      ],
      "machine_shape": "hm",
      "gpuType": "A100",
      "include_colab_link": true
    },
    "kernelspec": {
      "name": "python3",
      "display_name": "Python 3"
    },
    "language_info": {
      "name": "python"
    },
    "accelerator": "GPU"
  },
  "cells": [
    {
      "cell_type": "markdown",
      "metadata": {
        "id": "view-in-github",
        "colab_type": "text"
      },
      "source": [
        "<a href=\"https://colab.research.google.com/github/emrulk1/LLM_practice/blob/main/Copy_of_Share_Mistral_7B_OpenOrca.ipynb\" target=\"_parent\"><img src=\"https://colab.research.google.com/assets/colab-badge.svg\" alt=\"Open In Colab\"/></a>"
      ]
    },
    {
      "cell_type": "markdown",
      "source": [
        "# Setup"
      ],
      "metadata": {
        "id": "Lz1BrGwnBvOy"
      }
    },
    {
      "cell_type": "code",
      "execution_count": null,
      "metadata": {
        "id": "gkTcL-Y8Ah8h"
      },
      "outputs": [],
      "source": [
        "! pip install datasets einops sentencepiece tokenizers\n",
        "! pip install git+https://github.com/huggingface/transformers"
      ]
    },
    {
      "cell_type": "markdown",
      "source": [
        "# Download"
      ],
      "metadata": {
        "id": "Ifv2qeonBw2O"
      }
    },
    {
      "cell_type": "code",
      "source": [
        "import torch\n",
        "from transformers import AutoModelForCausalLM, AutoTokenizer, GenerationConfig\n",
        "\n",
        "device = \"cuda\"\n",
        "model = AutoModelForCausalLM.from_pretrained(\n",
        "    \"Open-Orca/Mistral-7B-OpenOrca\").to(device)\n",
        "tokenizer = AutoTokenizer.from_pretrained(\n",
        "    \"Open-Orca/Mistral-7B-OpenOrca\")"
      ],
      "metadata": {
        "id": "_0m69EdhKziv"
      },
      "execution_count": null,
      "outputs": []
    },
    {
      "cell_type": "markdown",
      "source": [
        "# Run"
      ],
      "metadata": {
        "id": "SIOYz3-TB0GU"
      }
    },
    {
      "cell_type": "code",
      "source": [
        "inputs = tokenizer(\n",
        "    \"Orcas were not known to be drawn to mistral energy, but they were seen recently \",\n",
        "    return_tensors=\"pt\").to(device)\n",
        "outputs = model.generate(\n",
        "    **inputs, max_new_tokens=256, use_cache=True, do_sample=True,\n",
        "    temperature=0.2, top_p=0.95)\n",
        "text = tokenizer.batch_decode(outputs)[0]\n",
        "print(text)"
      ],
      "metadata": {
        "id": "TuYgiMHgLDo9"
      },
      "execution_count": null,
      "outputs": []
    },
    {
      "cell_type": "code",
      "source": [
        "sys_prompt = \"A chat.\"\n",
        "prompt = \"Tell me a joke.\"\n",
        "\n",
        "prefix = \"<|im_start|>\"\n",
        "suffix = \"<|im_end|>\\n\"\n",
        "sys_format = prefix + \"system\\n\" + sys_prompt + suffix\n",
        "user_format = prefix + \"user\\n\" + prompt + suffix\n",
        "assistant_format = prefix + \"assistant\\n\"\n",
        "input_text = sys_format + user_format + assistant_format\n",
        "\n",
        "generation_config = GenerationConfig(\n",
        "    max_length=256, temperature=1.1, top_p=0.95, repetition_penalty=1.0,\n",
        "    do_sample=True, use_cache=True,\n",
        "    eos_token_id=tokenizer.eos_token_id, pad_token_id=tokenizer.eos_token_id,\n",
        "    transformers_version=\"4.34.0.dev0\")\n",
        "\n",
        "inputs = tokenizer(input_text, return_tensors=\"pt\", return_attention_mask=True).to(device)\n",
        "outputs = model.generate(**inputs, generation_config=generation_config)\n",
        "\n",
        "text = tokenizer.batch_decode(outputs)[0]\n",
        "print(text)"
      ],
      "metadata": {
        "id": "C65lxy1PBr5m"
      },
      "execution_count": null,
      "outputs": []
    },
    {
      "cell_type": "markdown",
      "source": [
        "# Debug"
      ],
      "metadata": {
        "id": "clXKow5r25b6"
      }
    },
    {
      "cell_type": "code",
      "source": [
        "print(tokenizer.eos_token_id)\n",
        "print(model.config.eos_token_id)\n",
        "print(tokenizer.pad_token_id)\n",
        "print(model.config.pad_token_id)"
      ],
      "metadata": {
        "colab": {
          "base_uri": "https://localhost:8080/"
        },
        "id": "pbiLHvBhQMaZ",
        "outputId": "87e02cc1-d16a-49aa-a4ef-e6a3665119a6"
      },
      "execution_count": null,
      "outputs": [
        {
          "output_type": "stream",
          "name": "stdout",
          "text": [
            "2\n",
            "2\n",
            "None\n",
            "None\n"
          ]
        }
      ]
    },
    {
      "cell_type": "code",
      "source": [
        "text = tokenizer.decode([1, 2, 32000, 32001])\n",
        "print(text)"
      ],
      "metadata": {
        "colab": {
          "base_uri": "https://localhost:8080/"
        },
        "id": "zr5szONSTlxI",
        "outputId": "d4ffe4f3-3c2a-4acd-bcef-39aa9c2ffab1"
      },
      "execution_count": null,
      "outputs": [
        {
          "output_type": "stream",
          "name": "stdout",
          "text": [
            "<s></s><|im_end|><|im_start|>\n"
          ]
        }
      ]
    },
    {
      "cell_type": "code",
      "source": [
        "tokenizer.convert_tokens_to_ids(\"<|im_end|>\")"
      ],
      "metadata": {
        "colab": {
          "base_uri": "https://localhost:8080/"
        },
        "id": "vUsP1IVOVTpm",
        "outputId": "b973c1e3-de7b-4805-a52f-d94cc5f811df"
      },
      "execution_count": null,
      "outputs": [
        {
          "output_type": "execute_result",
          "data": {
            "text/plain": [
              "32000"
            ]
          },
          "metadata": {},
          "execution_count": 38
        }
      ]
    },
    {
      "cell_type": "code",
      "source": [],
      "metadata": {
        "id": "NorLc3FzX32I"
      },
      "execution_count": null,
      "outputs": []
    }
  ]
}